{
 "cells": [
  {
   "cell_type": "code",
   "execution_count": null,
   "metadata": {},
   "outputs": [],
   "source": [
    "# Creating a dictionary of file names and df names to faciliate importing\n",
    "\n",
    "datasets_dict = {'bom.movie_gross':'bom_movie_gross','imdb.name.basics':'imdb_name_basics',\n",
    "                 'imdb.title.akas':'imdb_title_akas','imdb.title.basics':'imdb_title_basics',\n",
    "                 'imdb.title.crew':'imdb_title_crew','imdb.title.principals':'imdb_title_principals',\n",
    "                 'imdb.title.ratings':'imdb_title_ratings','tmdb.movies':'tmdb_movies',\n",
    "                 'tn.movie_budgets':'tn_movie_budgets'}\n",
    "\n",
    "def import_datasets(key, value):\n",
    "        value = pd.read_csv(f'zippedData/{key}.csv.gz', compression='gzip', \n",
    "                                 header=0, sep=',', quotechar='\"')\n",
    "        return value\n",
    "    \n",
    "for key, value in datasets.items():\n",
    "    import_datasets(key, value)    "
   ]
  },
  {
   "cell_type": "code",
   "execution_count": null,
   "metadata": {},
   "outputs": [],
   "source": [
    "rt_movie_info = pd.read_csv('zippedData/rt.movie_info.tsv.gz', compression='gzip', \n",
    "                                 header=0, sep='\\t', encoding='ISO-8859-1', quotechar='\"')\n",
    "\n",
    "rt_reviews = pd.read_csv('zippedData/rt.reviews.tsv.gz', compression='gzip', \n",
    "                                 header=0, sep='\\t', encoding='ISO-8859-1', quotechar='\"')"
   ]
  },
  {
   "cell_type": "markdown",
   "metadata": {},
   "source": [
    "### Categorizing the genre variable in the IMDB dataset.  The original genres classification contained 1085 \n",
    "### unique classifications.  These are combinations of certain basic classifications.  Here creating non-mutually \n",
    "### exclusive genre classifications."
   ]
  },
  {
   "cell_type": "code",
   "execution_count": null,
   "metadata": {},
   "outputs": [],
   "source": [
    "imdb_title_basics['genres'].nunique()"
   ]
  },
  {
   "cell_type": "code",
   "execution_count": null,
   "metadata": {},
   "outputs": [],
   "source": [
    "imdb_title_basics['genres']"
   ]
  },
  {
   "cell_type": "code",
   "execution_count": null,
   "metadata": {},
   "outputs": [],
   "source": [
    "#creating a list of all genres\n",
    "list_of_genres = list(imdb_title_basics['genres'])\n",
    "\n",
    "#python is interpreting nan as a float which prevents us iterating over this entries with string methods\n",
    "# imdb_title_basics['genres'].isna().sum()\n",
    "#Using the isinstance to get around this problem\n",
    "list_of_genres2 = []\n",
    "\n",
    "for a in range(0, len(list_of_genres)):\n",
    "    if isinstance(list_of_genres[a], str):\n",
    "        list_of_genres2.append(list_of_genres[a])\n",
    "\n",
    "#Multiple entries are seperated by commas. Using split function to make each genre an individual entry.\n",
    "list_of_genres3 = []\n",
    "for a in range(0, len(list_of_genres2)):\n",
    "    list_of_genres3.extend(list_of_genres2[a].split(','))\n",
    "\n",
    "#Using set function to get the list of unique genres    \n",
    "unique_genres = set(list_of_genres3)\n",
    "\n",
    "unique_genres"
   ]
  },
  {
   "cell_type": "code",
   "execution_count": null,
   "metadata": {},
   "outputs": [],
   "source": [
    "#Using the unique_genres list to create the non-mutually exclusive variables\n",
    "\n",
    "for genre in unique_genres:\n",
    "    imdb_title_basics[f'{genre}_movie'] = imdb_title_basics['genres'].str.contains(f'{genre}')"
   ]
  },
  {
   "cell_type": "code",
   "execution_count": null,
   "metadata": {},
   "outputs": [],
   "source": []
  },
  {
   "cell_type": "code",
   "execution_count": null,
   "metadata": {},
   "outputs": [],
   "source": []
  },
  {
   "cell_type": "code",
   "execution_count": null,
   "metadata": {},
   "outputs": [],
   "source": []
  },
  {
   "cell_type": "code",
   "execution_count": null,
   "metadata": {},
   "outputs": [],
   "source": []
  },
  {
   "cell_type": "code",
   "execution_count": null,
   "metadata": {},
   "outputs": [],
   "source": []
  },
  {
   "cell_type": "code",
   "execution_count": null,
   "metadata": {},
   "outputs": [],
   "source": []
  }
 ],
 "metadata": {
  "kernelspec": {
   "display_name": "Python 3",
   "language": "python",
   "name": "python3"
  },
  "language_info": {
   "codemirror_mode": {
    "name": "ipython",
    "version": 3
   },
   "file_extension": ".py",
   "mimetype": "text/x-python",
   "name": "python",
   "nbconvert_exporter": "python",
   "pygments_lexer": "ipython3",
   "version": "3.6.9"
  }
 },
 "nbformat": 4,
 "nbformat_minor": 4
}
